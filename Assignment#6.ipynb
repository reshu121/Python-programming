{
 "cells": [
  {
   "cell_type": "code",
   "execution_count": null,
   "metadata": {},
   "outputs": [],
   "source": [
    "#Question1 : Answer\n",
    "\n",
    "#Object-oriented programming (OOP) refers to a type of\n",
    "#computer programming (software design) in which\n",
    "#programmers define the data type of a data structure,\n",
    "#and also the types of operations (functions)\n",
    "#that can be applied to the data structure."
   ]
  },
  {
   "cell_type": "code",
   "execution_count": null,
   "metadata": {},
   "outputs": [],
   "source": [
    "#Question2 : Answer \n",
    "\n",
    "#It provides a clear modular structure for programs which makes it good for defining abstract datatypes in which implementation details are hidden.\n",
    "#Objects can also be reused within an across applications. ...\n",
    "#It makes software easier to maintain. ...\n",
    "#Reuse also enables faster development\n"
   ]
  },
  {
   "cell_type": "code",
   "execution_count": null,
   "metadata": {},
   "outputs": [],
   "source": [
    "#Question3 :Answer\n",
    "\n",
    "#A function is a piece of code that is called by name.\n",
    "#It can be passed data to operate on (i.e. the parameters) and can optionally return data (the return value). \n",
    "#All data that is passed to a function is explicitly passed.\n",
    "#A method is a piece of code that is called by a name that is associated with an object."
   ]
  },
  {
   "cell_type": "code",
   "execution_count": null,
   "metadata": {},
   "outputs": [],
   "source": [
    "#Question4 : Answer\n",
    "\n",
    "#class :Classes (OOP) In object-oriented programming, a class is a blueprint for creating objects \n",
    "#object :Each object is an instance of a particular class or subclass with the class's own methods or procedures and data variables\n",
    "#attributes:Attributes are data stored inside a class or instance and represent the state or quality of the class or instance\n",
    "#behaviour : A class's behavior determines how an instance of that class operates; for example, how it will \"react\" if asked to do something by another class or object or if its internal state \n"
   ]
  },
  {
   "cell_type": "code",
   "execution_count": 1,
   "metadata": {},
   "outputs": [
    {
     "name": "stdout",
     "output_type": "stream",
     "text": [
      "('Blue', 'mercedes', 2011, \"'sold'\")\n"
     ]
    }
   ],
   "source": [
    "class car:\n",
    "    def __init__(self,name,car,model):\n",
    "        self.model=model\n",
    "        self.car=car\n",
    "        self.name=name\n",
    "    def sale(self, race):\n",
    "        return (self.name,self.car,self.model, race)\n",
    "    def buy(self, race):\n",
    "        return \"you have bought\".format(self.name, race)\n",
    "    def rent(self, race):\n",
    "        return \"you have rented\".format(self.name, race)\n",
    "\n",
    "blue = car(\"Blue\", \"mercedes\",2011)\n",
    "red = car(\"red\", \"mustang\",2019)\n",
    "yellow = car(\"yellow\", \"corolla\",2010)\n",
    "green = car(\"green\", \"mercedes\",2011)\n",
    "brown = car(\"brown\", \"mercedes\",2004)\n",
    "\n",
    "# call our instance methods\n",
    "print(blue.sale(\"'sold'\"))\n"
   ]
  },
  {
   "cell_type": "code",
   "execution_count": null,
   "metadata": {},
   "outputs": [],
   "source": []
  }
 ],
 "metadata": {
  "kernelspec": {
   "display_name": "Python 3",
   "language": "python",
   "name": "python3"
  },
  "language_info": {
   "codemirror_mode": {
    "name": "ipython",
    "version": 3
   },
   "file_extension": ".py",
   "mimetype": "text/x-python",
   "name": "python",
   "nbconvert_exporter": "python",
   "pygments_lexer": "ipython3",
   "version": "3.7.4"
  }
 },
 "nbformat": 4,
 "nbformat_minor": 2
}
