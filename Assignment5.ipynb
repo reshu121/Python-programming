{
 "cells": [
  {
   "cell_type": "code",
   "execution_count": 1,
   "metadata": {},
   "outputs": [
    {
     "name": "stdout",
     "output_type": "stream",
     "text": [
      "enter a number5\n"
     ]
    },
    {
     "data": {
      "text/plain": [
       "120"
      ]
     },
     "execution_count": 1,
     "metadata": {},
     "output_type": "execute_result"
    }
   ],
   "source": [
    "def factorial(num):\n",
    "    if num==0:\n",
    "        return 1\n",
    "    else: \n",
    "        return num*factorial(num-1)\n",
    "newnum=int(input(\"enter a number\"))\n",
    "factorial(newnum)\n"
   ]
  },
  {
   "cell_type": "code",
   "execution_count": 2,
   "metadata": {},
   "outputs": [
    {
     "name": "stdout",
     "output_type": "stream",
     "text": [
      "Original String :  Python Programming\n",
      "No. of Upper case characters :  2\n",
      "No. of Lower case Characters :  15\n"
     ]
    }
   ],
   "source": [
    "def string_test(s):\n",
    "    d={\"UPPER_CASE\":0, \"LOWER_CASE\":0}\n",
    "    for c in s:\n",
    "        if c.isupper():\n",
    "           d[\"UPPER_CASE\"]+=1\n",
    "        elif c.islower():\n",
    "           d[\"LOWER_CASE\"]+=1\n",
    "        else:\n",
    "           pass\n",
    "    print (\"Original String : \", s)\n",
    "    print (\"No. of Upper case characters : \", d[\"UPPER_CASE\"])\n",
    "    print (\"No. of Lower case Characters : \", d[\"LOWER_CASE\"])\n",
    "\n",
    "string_test('Python Programming')\n"
   ]
  },
  {
   "cell_type": "code",
   "execution_count": 3,
   "metadata": {},
   "outputs": [
    {
     "name": "stdout",
     "output_type": "stream",
     "text": [
      "10 4 66 "
     ]
    }
   ],
   "source": [
    "def even(list):\n",
    "    for num in list:         \n",
    "        if num % 2 == 0: \n",
    "           print(num, end = \" \") \n",
    "even([10, 21, 4, 45, 66, 93])\n"
   ]
  },
  {
   "cell_type": "code",
   "execution_count": 4,
   "metadata": {},
   "outputs": [
    {
     "name": "stdout",
     "output_type": "stream",
     "text": [
      "MOM :  is palindrome\n",
      "father : is not palindrome\n"
     ]
    }
   ],
   "source": [
    "def isPalindrome(string):\n",
    "    left_pos = 0\n",
    "    right_pos = len(string) - 1\n",
    "    \n",
    "    while right_pos >= left_pos:\n",
    "        if not string[left_pos] == string[right_pos]:\n",
    "            return \"is not palindrome\"\n",
    "        left_pos += 1\n",
    "        right_pos -= 1\n",
    "    return \"is palindrome\"\n",
    "print(\"MOM : \", isPalindrome('MOM'))\n",
    "print(\"father :\", isPalindrome('Father'))\n"
   ]
  },
  {
   "cell_type": "code",
   "execution_count": 5,
   "metadata": {},
   "outputs": [
    {
     "name": "stdout",
     "output_type": "stream",
     "text": [
      "Enter your number  4\n",
      "4  :  not prime number\n"
     ]
    }
   ],
   "source": [
    "def prime(num):\n",
    "    if (num==1):\n",
    "        return \"not prime number\"\n",
    "    elif (num==2):\n",
    "        return \"prime number\";\n",
    "    else:\n",
    "        for x in range(2,num):\n",
    "            if(num % x==0):\n",
    "                return \"not prime number\"\n",
    "        return \"Prime number\"\n",
    "newnum=int(input(\"Enter your number  \"))\n",
    "print(newnum, \" : \" , prime(newnum))\n"
   ]
  },
  {
   "cell_type": "code",
   "execution_count": 6,
   "metadata": {},
   "outputs": [
    {
     "name": "stdout",
     "output_type": "stream",
     "text": [
      "welcome to mart\n",
      "Your items in basket are : \n",
      "\n",
      "['Ice cream', 'Chocolate', 'Butter']\n"
     ]
    }
   ],
   "source": [
    "def ShoppingBasket(*theitems):\n",
    "    print(\"welcome to mart\")\n",
    "    print(\"Your items in basket are : \\n\")\n",
    "    print(\"%s\" %(list(theitems)))\n",
    "    \n",
    "ShoppingBasket(\"Ice cream\",\"Chocolate\",\"Butter\")\n"
   ]
  },
  {
   "cell_type": "code",
   "execution_count": null,
   "metadata": {},
   "outputs": [],
   "source": []
  }
 ],
 "metadata": {
  "kernelspec": {
   "display_name": "Python 3",
   "language": "python",
   "name": "python3"
  },
  "language_info": {
   "codemirror_mode": {
    "name": "ipython",
    "version": 3
   },
   "file_extension": ".py",
   "mimetype": "text/x-python",
   "name": "python",
   "nbconvert_exporter": "python",
   "pygments_lexer": "ipython3",
   "version": "3.7.4"
  }
 },
 "nbformat": 4,
 "nbformat_minor": 2
}
