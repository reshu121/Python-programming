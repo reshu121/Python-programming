{
 "cells": [
  {
   "cell_type": "code",
   "execution_count": 1,
   "metadata": {},
   "outputs": [
    {
     "name": "stdout",
     "output_type": "stream",
     "text": [
      "First-name is Resham\n",
      "Last-name is Gul\n",
      "Age is 21\n",
      "city is karachi\n",
      "\n",
      "dictionary after adding qualification\n",
      "\n",
      "{'firstname': 'Resham', 'Lastname': 'Gul', 'Age': 21, 'city': 'karachi', 'Qualification': 'Bs Software Engineer'}\n",
      "\n",
      "dictionary after updating qualification\n",
      "\n",
      "{'firstname': 'Resham', 'Lastname': 'Gul', 'Age': 21, 'city': 'karachi', 'Qualification': 'MS Software Engineer'}\n",
      "\n",
      "dictionary after deleting qualification\n",
      "\n",
      "{'firstname': 'Resham', 'Lastname': 'Gul', 'Age': 21, 'city': 'karachi'}\n"
     ]
    }
   ],
   "source": [
    "dict={'firstname':'Resham','Lastname':'Gul','Age':21,'city':'karachi'}\n",
    "print(\"First-name is\", dict['firstname'])\n",
    "print(\"Last-name is\", dict['Lastname'])\n",
    "print(\"Age is\", dict['Age'])\n",
    "print(\"city is\", dict['city'])\n",
    "dict['Qualification']='Bs Software Engineer'\n",
    "print(\"\\ndictionary after adding qualification\\n\")\n",
    "print(dict)\n",
    "print(\"\\ndictionary after updating qualification\\n\")\n",
    "dict['Qualification']='MS Software Engineer'\n",
    "print(dict)\n",
    "print(\"\\ndictionary after deleting qualification\\n\")\n",
    "del dict['Qualification']\n",
    "print(dict)\n"
   ]
  },
  {
   "cell_type": "code",
   "execution_count": 2,
   "metadata": {},
   "outputs": [
    {
     "name": "stdout",
     "output_type": "stream",
     "text": [
      "\n",
      "*********karachi***********\n",
      "\n",
      "{'country': 'Pakistan', 'population': 213232323, 'fact': 'city of lights'}\n",
      "\n",
      "**********hyderabad**********\n",
      "\n",
      "{'country': 'Pakistan', 'population': 123232222, 'fact': 'interior city of sindh'}\n",
      "\n",
      "*********islamad*************\n",
      "\n",
      "{'country': 'Pakistan', 'population': 14331413, 'fact': 'Capital city'}\n"
     ]
    }
   ],
   "source": [
    "cities={'karachi':{'country':'Pakistan','population':213232323,'fact':'city of lights'},'Hyderabad':{'country':'Pakistan','population':123232222,'fact':'interior city of sindh'},'islamabad':{'country':'Pakistan','population':14331413,'fact':'Capital city'}}\n",
    "print(\"\\n*********karachi***********\\n\")\n",
    "print(cities['karachi'])\n",
    "print('\\n**********hyderabad**********\\n')\n",
    "print(cities['Hyderabad'])\n",
    "print(\"\\n*********islamad*************\\n\")\n",
    "print(cities['islamabad'])\n"
   ]
  },
  {
   "cell_type": "code",
   "execution_count": 4,
   "metadata": {},
   "outputs": [
    {
     "name": "stdout",
     "output_type": "stream",
     "text": [
      "please enter -1 when you want to quite\n",
      "How old are you2\n",
      "  You get in free!\n",
      "How old are you4\n",
      "  Your ticket is $10.\n",
      "How old are you-1\n",
      "\n",
      "******program ends*******\n"
     ]
    }
   ],
   "source": [
    "print(\"please enter -1 when you want to quite\") \n",
    "\n",
    "while True:\n",
    "    age = int(input(\"How old are you\"))\n",
    "    if age == -1:\n",
    "        print(\"\\n******program ends*******\")\n",
    "        break\n",
    "    if age < 3:\n",
    "        print(\"  You get in free!\")\n",
    "    elif age>3 and age<=12:\n",
    "        print(\"  Your ticket is $10.\")\n",
    "    else:\n",
    "        print(\"  Your ticket is $15.\")\n"
   ]
  },
  {
   "cell_type": "code",
   "execution_count": 5,
   "metadata": {},
   "outputs": [
    {
     "name": "stdout",
     "output_type": "stream",
     "text": [
      "what is your favorite book name  :  Alchemist\n",
      "\n",
      "one of my favoruite book is : Alchemist\n"
     ]
    }
   ],
   "source": [
    "def favorite_book(title):\n",
    "    print(\"\\none of my favoruite book is :\" , title)\n",
    "bookname=input(\"what is your favorite book name  :  \")\n",
    "\n",
    "favorite_book(bookname)\n"
   ]
  },
  {
   "cell_type": "code",
   "execution_count": 7,
   "metadata": {},
   "outputs": [
    {
     "name": "stdout",
     "output_type": "stream",
     "text": [
      "enter your number4\n",
      "your number is lesser than magic number\n",
      "enter your number9\n",
      "your number is lesser than magic number\n",
      "enter your number15\n",
      "your number is lesser than magic number\n"
     ]
    }
   ],
   "source": [
    "from random import randint\n",
    "number=randint(1, 31)\n",
    "\n",
    "a=0\n",
    "while a<3:\n",
    "    yournumber=int(input(\"enter your number\"))\n",
    "    a=a+1\n",
    "    if number==yournumber:\n",
    "        print(\"your number is same\")\n",
    "        break;\n",
    "    elif number<yournumber:\n",
    "        print(\"your number is greater than magic number\")\n",
    "    else:\n",
    "        print(\"your number is lesser than magic number\")\n"
   ]
  },
  {
   "cell_type": "code",
   "execution_count": null,
   "metadata": {},
   "outputs": [],
   "source": []
  }
 ],
 "metadata": {
  "kernelspec": {
   "display_name": "Python 3",
   "language": "python",
   "name": "python3"
  },
  "language_info": {
   "codemirror_mode": {
    "name": "ipython",
    "version": 3
   },
   "file_extension": ".py",
   "mimetype": "text/x-python",
   "name": "python",
   "nbconvert_exporter": "python",
   "pygments_lexer": "ipython3",
   "version": "3.7.4"
  }
 },
 "nbformat": 4,
 "nbformat_minor": 2
}
