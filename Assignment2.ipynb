{
 "cells": [
  {
   "cell_type": "code",
   "execution_count": 6,
   "metadata": {},
   "outputs": [
    {
     "name": "stdout",
     "output_type": "stream",
     "text": [
      "Enter Marks of 5 subjects : 20 30 100 90 100\n",
      "Marks of Subjects\n",
      "Math,Science,English,Physics,chemistry  [20, 30, 100, 90, 100]\n",
      "Total Marks out of 500 are :  340\n",
      "You have scored B grade\n"
     ]
    }
   ],
   "source": [
    "#Question 1\n",
    "Marks = [int(Marks) for Marks in input(\"Enter Marks of 5 subjects : \").split()] \n",
    "print(\"Marks of Subjects\")\n",
    "print(\"Math,Science,English,Physics,chemistry \", Marks) \n",
    "Total=sum(Marks)\n",
    "print(\"Total Marks out of 500 are : \",Total)\n",
    "if(Total>400 and Total<=500):\n",
    "    print(\"You have scored A grade\")\n",
    "elif(Total>300 and Total<=400):\n",
    "    print(\"You have scored B grade\")\n",
    "elif(Total>200 and Total<=300):\n",
    "    print(\"You have scored C Grade\")\n",
    "else:\n",
    "    print(\"You have scored U Grade\")\n"
   ]
  },
  {
   "cell_type": "code",
   "execution_count": 1,
   "metadata": {},
   "outputs": [
    {
     "name": "stdout",
     "output_type": "stream",
     "text": [
      "*********Identifying Even or odd number**********\n",
      "Enter any number 3\n",
      "3 is an odd number\n"
     ]
    }
   ],
   "source": [
    "#Question:2\n",
    "\n",
    "print(\"*********Identifying Even or odd number**********\")\n",
    "number=int(input(\"Enter any number\"))\n",
    "if(number%2==0):\n",
    "    print(number, \"  is an even number\")\n",
    "else:\n",
    "    print(number, \"is an odd number\")\n"
   ]
  },
  {
   "cell_type": "code",
   "execution_count": 2,
   "metadata": {},
   "outputs": [
    {
     "name": "stdout",
     "output_type": "stream",
     "text": [
      "Enter numbers 1 2 3  4\n",
      "[1, 2, 3, 4]\n",
      "Length of your given list is  : 4\n"
     ]
    }
   ],
   "source": [
    "#Question 3\n",
    "\n",
    "list=[int (x) for x in input(\"Enter numbers\").split()]\n",
    "print(list)\n",
    "a=len(list)\n",
    "print(\"Length of your given list is  :\", a)\n"
   ]
  },
  {
   "cell_type": "code",
   "execution_count": 3,
   "metadata": {},
   "outputs": [
    {
     "name": "stdout",
     "output_type": "stream",
     "text": [
      "Enter numbers1 50 40 2\n",
      "[1, 50, 40, 2]\n",
      "sum of your given list is  : 93\n"
     ]
    }
   ],
   "source": [
    "#Question 4\n",
    "list=[int (x) for x in input(\"Enter numbers\").split()]\n",
    "print(list)\n",
    "Total=sum(list)\n",
    "print(\"sum of your given list is  :\", Total)\n"
   ]
  },
  {
   "cell_type": "code",
   "execution_count": 4,
   "metadata": {},
   "outputs": [
    {
     "name": "stdout",
     "output_type": "stream",
     "text": [
      "Enter numbers1 90 2 3 5\n",
      "[1, 90, 2, 3, 5]\n",
      "Largest number in your list is   : 90\n"
     ]
    }
   ],
   "source": [
    "#Question 5\n",
    "\n",
    "list=[int (x) for x in input(\"Enter numbers\").split()]\n",
    "print(list)\n",
    "MAX=max(list)\n",
    "print(\"Largest number in your list is   :\", MAX)\n"
   ]
  },
  {
   "cell_type": "code",
   "execution_count": 5,
   "metadata": {},
   "outputs": [
    {
     "name": "stdout",
     "output_type": "stream",
     "text": [
      "your given list is :  [1, 1, 2, 3, 5, 8, 13, 21, 34, 55, 89]\n",
      "Numbers less than 5 in list are \n",
      "\n",
      "1 , 1 , 2 , 3 , "
     ]
    }
   ],
   "source": [
    "#Question 6\n",
    "\n",
    "a=[1,1,2,3,5,8,13,21,34,55,89]\n",
    "print(\"your given list is : \",a)\n",
    "print(\"Numbers less than 5 in list are \\n\")\n",
    "for i in a:\n",
    "    if (i<5):\n",
    "        print(i,end=\" , \")\n"
   ]
  },
  {
   "cell_type": "code",
   "execution_count": null,
   "metadata": {},
   "outputs": [],
   "source": []
  }
 ],
 "metadata": {
  "celltoolbar": "Edit Metadata",
  "kernelspec": {
   "display_name": "Python 3",
   "language": "python",
   "name": "python3"
  },
  "language_info": {
   "codemirror_mode": {
    "name": "ipython",
    "version": 3
   },
   "file_extension": ".py",
   "mimetype": "text/x-python",
   "name": "python",
   "nbconvert_exporter": "python",
   "pygments_lexer": "ipython3",
   "version": "3.7.4"
  }
 },
 "nbformat": 4,
 "nbformat_minor": 2
}
