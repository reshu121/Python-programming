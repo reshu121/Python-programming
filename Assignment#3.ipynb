{
 "cells": [
  {
   "cell_type": "code",
   "execution_count": 1,
   "metadata": {},
   "outputs": [
    {
     "name": "stdout",
     "output_type": "stream",
     "text": [
      "******Math Calculator********\n",
      "\n",
      " Please enter operator **\n",
      "enter power2\n",
      "enter number2\n",
      "4\n"
     ]
    }
   ],
   "source": [
    "print('******Math Calculator********')\n",
    "operator=input(\"\\n Please enter operator \")\n",
    "sub=0\n",
    "mul=1\n",
    "if operator=='+' or operator=='-' or operator=='*':\n",
    "    numblist=[int(x) for x in input(\"Enter your numbers\").split()]\n",
    "    print(numblist)\n",
    "    if operator=='+':\n",
    "        for i in range(len(numblist)):\n",
    "            a=sum(numblist)\n",
    "        print(a)\n",
    "    if operator=='-':\n",
    "        for i in numblist:\n",
    "            sub=sub-i\n",
    "        print(sub)\n",
    "    if operator=='*':\n",
    "        for i in numblist:\n",
    "            mul=mul*i\n",
    "        print(mul)\n",
    "elif operator=='**':\n",
    "    num1=int(input(\"enter power\"))\n",
    "    num2=int(input(\"enter number\"))\n",
    "    p=num2**num1\n",
    "    print(p)\n",
    "elif operator=='/':\n",
    "    num1=int(input('enter num1 : '))\n",
    "    num2=int(input('enter num2 : '))\n",
    "    div=num1/num2\n",
    "    print(div)\n",
    "else:\n",
    "    print(\"invalid operator\")\n",
    "\n"
   ]
  },
  {
   "cell_type": "code",
   "execution_count": 2,
   "metadata": {},
   "outputs": [
    {
     "name": "stdout",
     "output_type": "stream",
     "text": [
      "20 1 30 60 "
     ]
    }
   ],
   "source": [
    "list=['Resham',20,'My','Style',1 ,30 ,60]\n",
    "for i in list:\n",
    "    if i in range(-99999,99999):            \n",
    "        print(i,end=\" \")\n"
   ]
  },
  {
   "cell_type": "code",
   "execution_count": 3,
   "metadata": {},
   "outputs": [
    {
     "name": "stdout",
     "output_type": "stream",
     "text": [
      "enter your key4\n",
      "enter your valuefour\n",
      "{1: 'one', 2: 'two', 3: 'three', 4: 'four'}\n"
     ]
    }
   ],
   "source": [
    "dict={1:'one',2:'two',3:'three'}\n",
    "key=int(input(\"enter your key\"))\n",
    "value=(input(\"enter your value\"))\n",
    "dict[key]=value #if key is same then it overwrites\n",
    "print(dict)\n"
   ]
  },
  {
   "cell_type": "code",
   "execution_count": 4,
   "metadata": {},
   "outputs": [
    {
     "name": "stdout",
     "output_type": "stream",
     "text": [
      "sum of integers is  10\n"
     ]
    }
   ],
   "source": [
    "dict={1:'one',2:'two',3:'three',4:'four'}\n",
    "a=sum(dict)\n",
    "print(\"sum of integers is \",a)\n"
   ]
  },
  {
   "cell_type": "code",
   "execution_count": 5,
   "metadata": {},
   "outputs": [
    {
     "name": "stdout",
     "output_type": "stream",
     "text": [
      "duplicates are {number: occurance}\n",
      "{4: 7, 5: 2, 6: 3, 'reshu': 2}\n"
     ]
    }
   ],
   "source": [
    "list=[1,2,3,4,5,5,6,6,6,4,4,4,4,4,4,'reshu','reshu']\n",
    "dict={}\n",
    "list2=[]\n",
    "for i in list:\n",
    "    a=list.count(i)\n",
    "    if a>1:\n",
    "        list2.append(i)\n",
    "        dict[i]=a\n",
    "print(\"duplicates are\", end=\" \")\n",
    "print(\"{number: occurance}\")\n",
    "print(dict)\n"
   ]
  },
  {
   "cell_type": "code",
   "execution_count": 6,
   "metadata": {},
   "outputs": [
    {
     "name": "stdout",
     "output_type": "stream",
     "text": [
      "enter a key : 2\n",
      "{1: 'one', 2: 'two', 3: 'three', 4: 'four'}\n",
      "2  key exist\n"
     ]
    }
   ],
   "source": [
    "\n",
    "key=int(input(\"enter a key : \"))\n",
    "dict={1:'one',2:'two',3:'three',4:'four'}\n",
    "print(dict)\n",
    "\n",
    "if key in dict:\n",
    "    print(key, ' key exist')  \n",
    "else:\n",
    "    print(key,'does not exit, you can add new')\n"
   ]
  },
  {
   "cell_type": "code",
   "execution_count": null,
   "metadata": {},
   "outputs": [],
   "source": []
  }
 ],
 "metadata": {
  "kernelspec": {
   "display_name": "Python 3",
   "language": "python",
   "name": "python3"
  },
  "language_info": {
   "codemirror_mode": {
    "name": "ipython",
    "version": 3
   },
   "file_extension": ".py",
   "mimetype": "text/x-python",
   "name": "python",
   "nbconvert_exporter": "python",
   "pygments_lexer": "ipython3",
   "version": "3.7.4"
  }
 },
 "nbformat": 4,
 "nbformat_minor": 2
}
